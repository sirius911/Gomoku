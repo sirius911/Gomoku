{
 "cells": [
  {
   "cell_type": "code",
   "execution_count": 1,
   "metadata": {},
   "outputs": [],
   "source": [
    "import pandas as pd"
   ]
  },
  {
   "cell_type": "code",
   "execution_count": 3,
   "metadata": {},
   "outputs": [],
   "source": [
    "df = pd.read_csv('test_lvl3.csv')\n",
    "df.shape\n",
    "df_copy = df.copy()"
   ]
  },
  {
   "cell_type": "code",
   "execution_count": 4,
   "metadata": {},
   "outputs": [],
   "source": [
    "df_copy['depth'] = df['depth'].apply(lambda x : x if x == 0 else abs(x - 6) )"
   ]
  },
  {
   "cell_type": "code",
   "execution_count": 5,
   "metadata": {},
   "outputs": [
    {
     "data": {
      "text/plain": [
       "depth\n",
       "0     0.784024\n",
       "1    11.097919\n",
       "2     1.060695\n",
       "3     6.248194\n",
       "4     0.942023\n",
       "5     1.957002\n",
       "Name: best_move, dtype: float64"
      ]
     },
     "execution_count": 5,
     "metadata": {},
     "output_type": "execute_result"
    }
   ],
   "source": [
    "mean_per_depth = df_copy.groupby('depth')['best_move'].mean()\n",
    "mean_per_depth"
   ]
  },
  {
   "cell_type": "code",
   "execution_count": null,
   "metadata": {},
   "outputs": [],
   "source": [
    "# 0    1.644444\n",
    "# 1    5.386255\n",
    "# 2    0.269527\n",
    "# 3    0.885549"
   ]
  }
 ],
 "metadata": {
  "kernelspec": {
   "display_name": "Gomoku-env",
   "language": "python",
   "name": "python3"
  },
  "language_info": {
   "codemirror_mode": {
    "name": "ipython",
    "version": 3
   },
   "file_extension": ".py",
   "mimetype": "text/x-python",
   "name": "python",
   "nbconvert_exporter": "python",
   "pygments_lexer": "ipython3",
   "version": "3.10.13"
  }
 },
 "nbformat": 4,
 "nbformat_minor": 2
}
